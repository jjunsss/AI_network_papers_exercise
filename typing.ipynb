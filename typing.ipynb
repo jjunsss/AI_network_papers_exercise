{
 "cells": [
  {
   "cell_type": "code",
   "execution_count": 6,
   "metadata": {},
   "outputs": [
    {
     "name": "stdout",
     "output_type": "stream",
     "text": [
      "[1, 2, 3]\n",
      "[1, 2, 3.5]\n",
      "<class 'int'> <class 'float'>\n"
     ]
    }
   ],
   "source": [
    "from typing import List\n",
    "\n",
    "a : List[int] = [1, 2, 3]\n",
    "b : List[int] = [1, 2, 3.5]\n",
    "\n",
    "print(a)\n",
    "print(b)\n",
    "print(type(b[1]), type(b[2]))"
   ]
  },
  {
   "cell_type": "code",
   "execution_count": 12,
   "metadata": {},
   "outputs": [
    {
     "name": "stdout",
     "output_type": "stream",
     "text": [
      "{'a': 'a', 'b': 'b', 'c': 'c'}\n",
      "{'a': 1, 'b': 123}\n"
     ]
    }
   ],
   "source": [
    "from typing import Dict\n",
    "\n",
    "#Dict = [ket, value] input typing\n",
    "a : Dict[str, str] = {'a' : \"a\", 'b' : \"b\", 'c' : \"c\"}\n",
    "b : Dict[str, int] = {'a' : 1, 'b' : 123}\n",
    "\n",
    "print(a)\n",
    "print(b)"
   ]
  },
  {
   "cell_type": "code",
   "execution_count": 14,
   "metadata": {},
   "outputs": [
    {
     "name": "stdout",
     "output_type": "stream",
     "text": [
      "(123, 0.5, 'my name is jjunsss')\n",
      "{456, 123, 789}\n"
     ]
    }
   ],
   "source": [
    "from typing import Tuple, Set\n",
    "\n",
    "a : Tuple[int, float, str] = (123, 0.5, 'my name is jjunsss')\n",
    "b : Set[int] = {123, 456, 789} # set is Dictionary shape that except key ( dict shape is key : value)\n",
    "\n",
    "print(a)\n",
    "print(b)"
   ]
  },
  {
   "cell_type": "code",
   "execution_count": 17,
   "metadata": {},
   "outputs": [
    {
     "name": "stdout",
     "output_type": "stream",
     "text": [
      "11\n",
      "10.5\n"
     ]
    }
   ],
   "source": [
    "from typing import Final\n",
    "\n",
    "c : Final[int] = 10\n",
    "d : Final[int] = 10.5\n",
    "\n",
    "c = 11  #빨간 줄이 뜨지만 실제로는 변경이 된다. 하지만 오류가 뜰 수 있는 소지가 분명한 것은 확실하다.\n",
    "print(c)\n",
    "print(d)"
   ]
  },
  {
   "cell_type": "code",
   "execution_count": 4,
   "metadata": {},
   "outputs": [
    {
     "name": "stdout",
     "output_type": "stream",
     "text": [
      "<class 'str'>\n",
      "<class 'str'>\n"
     ]
    }
   ],
   "source": [
    "from typing import Union\n",
    "\n",
    "def toString(num : Union[int, float]) -> str:\n",
    "    return str(num)\n",
    "\n",
    "print(type(toString(123))) #int\n",
    "print(type(toString(1.5))) #float\n",
    "\n"
   ]
  },
  {
   "cell_type": "code",
   "execution_count": 11,
   "metadata": {},
   "outputs": [
    {
     "name": "stdout",
     "output_type": "stream",
     "text": [
      "[123, None, 456]\n"
     ]
    }
   ],
   "source": [
    "from typing import List, Optional\n",
    "\n",
    "li : List[Optional[int]] = [123, None, 456]\n",
    "print(li)"
   ]
  },
  {
   "cell_type": "code",
   "execution_count": 14,
   "metadata": {},
   "outputs": [
    {
     "data": {
      "text/plain": [
       "['1', '2', '3']"
      ]
     },
     "execution_count": 14,
     "metadata": {},
     "output_type": "execute_result"
    }
   ],
   "source": [
    "from typing import List, Iterable   \n",
    "\n",
    "#function is accepted the iterater or List parameters\n",
    "def toString(num : List[int], nums : Iterable[int]) -> List[str]:\n",
    "    return [str(x) for x in nums]\n",
    "\n",
    "toString([1,2,3], [1,2,3])"
   ]
  }
 ],
 "metadata": {
  "interpreter": {
   "hash": "8fac594bfae6525c0c41b4041d2d72effa188cc8ead05f81b1fab2bb098927fb"
  },
  "kernelspec": {
   "display_name": "Python 3.8.8 64-bit ('base': conda)",
   "language": "python",
   "name": "python3"
  },
  "language_info": {
   "codemirror_mode": {
    "name": "ipython",
    "version": 3
   },
   "file_extension": ".py",
   "mimetype": "text/x-python",
   "name": "python",
   "nbconvert_exporter": "python",
   "pygments_lexer": "ipython3",
   "version": "3.7.9"
  },
  "orig_nbformat": 4
 },
 "nbformat": 4,
 "nbformat_minor": 2
}
